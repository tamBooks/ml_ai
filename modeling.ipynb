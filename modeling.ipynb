{
 "cells": [
  {
   "cell_type": "code",
   "execution_count": 14,
   "metadata": {},
   "outputs": [],
   "source": [
    "import numpy as np\n",
    "import pandas as pd\n",
    "import matplotlib.pyplot as plt\n",
    "from sklearn.model_selection import train_test_split\n",
    "from sklearn.ensemble import RandomForestClassifier"
   ]
  },
  {
   "cell_type": "markdown",
   "metadata": {},
   "source": [
    "### Ingest/Clean\n",
    "***\n",
    "\n",
    "We'll make sure to exclude columns that aren't useful for analysis and fill NaN's with mode/median depending on column type. In a more strenuous analysis we'd impute missing values and check for outliers."
   ]
  },
  {
   "cell_type": "code",
   "execution_count": 15,
   "metadata": {},
   "outputs": [],
   "source": [
    "# Define cleaning function to apply to both testing and training data\n",
    "def clean_data(df, set = None):\n",
    "       \n",
    "       # Drop row if outcome is NaN, can't train on these\n",
    "       if set == \"train\": df = df.dropna(subset=['Genetic Disorder', 'Disorder Subclass'], how='any')\n",
    "\n",
    "       rhs = df.drop(['Patient Id', 'Patient First Name', 'Family Name', \"Father's name\",\n",
    "              'Institute Name', 'Institute Name', 'Location of Institute', 'Status',\n",
    "              'Genetic Disorder', 'Disorder Subclass'\n",
    "              ], axis = 1, errors = 'ignore')\n",
    "       \n",
    "       # Fill NaN with mode for categorical columns, median for numeric columns\n",
    "       for i in rhs.select_dtypes(include='object').columns:\n",
    "\n",
    "              # Unfortunately, the data we chose has a test set deliberately corrupted with -99 values...\n",
    "              rhs[i] = rhs[i].replace(\"-99\", np.NaN)\n",
    "              rhs[i] = rhs[i].fillna(rhs[i].mode().values[0])\n",
    "\n",
    "              # Create dummies for categorical columns (one hot encoding)\n",
    "              rhs = pd.concat([rhs, pd.get_dummies(rhs[i], drop_first=True, prefix=i)], axis = 1)\n",
    "              rhs = rhs.drop(columns=i)\n",
    "\n",
    "       for i in rhs.select_dtypes(include=['float64', 'int64']):\n",
    "\n",
    "              # Unfortunately, the data we chose has a test set deliberately corrupted with -99 values...\n",
    "              rhs[i] = rhs[i].replace(-99, np.NaN)\n",
    "              rhs[i] = rhs[i].fillna(rhs[i].median())\n",
    "\n",
    "       # Output is train/test dependant\n",
    "       if set == \"train\":\n",
    "\n",
    "              lhs = df[[\"Genetic Disorder\", \"Disorder Subclass\"]]\n",
    "       \n",
    "              return lhs, rhs\n",
    "       \n",
    "       if set == \"test\": return rhs\n",
    "\n",
    "       else: raise Exception(\"Please define sample as 'test' or 'train'.\") "
   ]
  },
  {
   "cell_type": "code",
   "execution_count": 16,
   "metadata": {},
   "outputs": [
    {
     "data": {
      "text/html": [
       "<div>\n",
       "<style scoped>\n",
       "    .dataframe tbody tr th:only-of-type {\n",
       "        vertical-align: middle;\n",
       "    }\n",
       "\n",
       "    .dataframe tbody tr th {\n",
       "        vertical-align: top;\n",
       "    }\n",
       "\n",
       "    .dataframe thead th {\n",
       "        text-align: right;\n",
       "    }\n",
       "</style>\n",
       "<table border=\"1\" class=\"dataframe\">\n",
       "  <thead>\n",
       "    <tr style=\"text-align: right;\">\n",
       "      <th></th>\n",
       "      <th>Patient Age</th>\n",
       "      <th>Blood cell count (mcL)</th>\n",
       "      <th>Mother's age</th>\n",
       "      <th>Father's age</th>\n",
       "      <th>Test 1</th>\n",
       "      <th>Test 2</th>\n",
       "      <th>Test 3</th>\n",
       "      <th>Test 4</th>\n",
       "      <th>Test 5</th>\n",
       "      <th>No. of previous abortion</th>\n",
       "      <th>...</th>\n",
       "      <th>H/O radiation exposure (x-ray)_Yes</th>\n",
       "      <th>H/O substance abuse_No</th>\n",
       "      <th>H/O substance abuse_Not applicable</th>\n",
       "      <th>H/O substance abuse_Yes</th>\n",
       "      <th>Assisted conception IVF/ART_Yes</th>\n",
       "      <th>History of anomalies in previous pregnancies_Yes</th>\n",
       "      <th>Birth defects_Singular</th>\n",
       "      <th>Blood test result_inconclusive</th>\n",
       "      <th>Blood test result_normal</th>\n",
       "      <th>Blood test result_slightly abnormal</th>\n",
       "    </tr>\n",
       "  </thead>\n",
       "  <tbody>\n",
       "    <tr>\n",
       "      <th>0</th>\n",
       "      <td>2.0</td>\n",
       "      <td>4.760603</td>\n",
       "      <td>35.0</td>\n",
       "      <td>42.0</td>\n",
       "      <td>0.0</td>\n",
       "      <td>0.0</td>\n",
       "      <td>0.0</td>\n",
       "      <td>1.0</td>\n",
       "      <td>0.0</td>\n",
       "      <td>2.0</td>\n",
       "      <td>...</td>\n",
       "      <td>0</td>\n",
       "      <td>1</td>\n",
       "      <td>0</td>\n",
       "      <td>0</td>\n",
       "      <td>0</td>\n",
       "      <td>1</td>\n",
       "      <td>0</td>\n",
       "      <td>0</td>\n",
       "      <td>0</td>\n",
       "      <td>1</td>\n",
       "    </tr>\n",
       "    <tr>\n",
       "      <th>2</th>\n",
       "      <td>6.0</td>\n",
       "      <td>4.893297</td>\n",
       "      <td>41.0</td>\n",
       "      <td>22.0</td>\n",
       "      <td>0.0</td>\n",
       "      <td>0.0</td>\n",
       "      <td>0.0</td>\n",
       "      <td>1.0</td>\n",
       "      <td>0.0</td>\n",
       "      <td>4.0</td>\n",
       "      <td>...</td>\n",
       "      <td>1</td>\n",
       "      <td>1</td>\n",
       "      <td>0</td>\n",
       "      <td>0</td>\n",
       "      <td>1</td>\n",
       "      <td>1</td>\n",
       "      <td>1</td>\n",
       "      <td>0</td>\n",
       "      <td>1</td>\n",
       "      <td>0</td>\n",
       "    </tr>\n",
       "    <tr>\n",
       "      <th>3</th>\n",
       "      <td>12.0</td>\n",
       "      <td>4.705280</td>\n",
       "      <td>21.0</td>\n",
       "      <td>42.0</td>\n",
       "      <td>0.0</td>\n",
       "      <td>0.0</td>\n",
       "      <td>0.0</td>\n",
       "      <td>1.0</td>\n",
       "      <td>0.0</td>\n",
       "      <td>1.0</td>\n",
       "      <td>...</td>\n",
       "      <td>0</td>\n",
       "      <td>0</td>\n",
       "      <td>1</td>\n",
       "      <td>0</td>\n",
       "      <td>1</td>\n",
       "      <td>1</td>\n",
       "      <td>1</td>\n",
       "      <td>1</td>\n",
       "      <td>0</td>\n",
       "      <td>0</td>\n",
       "    </tr>\n",
       "    <tr>\n",
       "      <th>4</th>\n",
       "      <td>11.0</td>\n",
       "      <td>4.720703</td>\n",
       "      <td>32.0</td>\n",
       "      <td>42.0</td>\n",
       "      <td>0.0</td>\n",
       "      <td>0.0</td>\n",
       "      <td>0.0</td>\n",
       "      <td>1.0</td>\n",
       "      <td>0.0</td>\n",
       "      <td>4.0</td>\n",
       "      <td>...</td>\n",
       "      <td>0</td>\n",
       "      <td>0</td>\n",
       "      <td>1</td>\n",
       "      <td>0</td>\n",
       "      <td>1</td>\n",
       "      <td>0</td>\n",
       "      <td>0</td>\n",
       "      <td>0</td>\n",
       "      <td>0</td>\n",
       "      <td>1</td>\n",
       "    </tr>\n",
       "    <tr>\n",
       "      <th>5</th>\n",
       "      <td>14.0</td>\n",
       "      <td>5.103188</td>\n",
       "      <td>35.0</td>\n",
       "      <td>42.0</td>\n",
       "      <td>0.0</td>\n",
       "      <td>0.0</td>\n",
       "      <td>0.0</td>\n",
       "      <td>1.0</td>\n",
       "      <td>0.0</td>\n",
       "      <td>0.0</td>\n",
       "      <td>...</td>\n",
       "      <td>0</td>\n",
       "      <td>1</td>\n",
       "      <td>0</td>\n",
       "      <td>0</td>\n",
       "      <td>1</td>\n",
       "      <td>0</td>\n",
       "      <td>0</td>\n",
       "      <td>0</td>\n",
       "      <td>1</td>\n",
       "      <td>0</td>\n",
       "    </tr>\n",
       "  </tbody>\n",
       "</table>\n",
       "<p>5 rows × 46 columns</p>\n",
       "</div>"
      ],
      "text/plain": [
       "   Patient Age  Blood cell count (mcL)  Mother's age  Father's age  Test 1  \\\n",
       "0          2.0                4.760603          35.0          42.0     0.0   \n",
       "2          6.0                4.893297          41.0          22.0     0.0   \n",
       "3         12.0                4.705280          21.0          42.0     0.0   \n",
       "4         11.0                4.720703          32.0          42.0     0.0   \n",
       "5         14.0                5.103188          35.0          42.0     0.0   \n",
       "\n",
       "   Test 2  Test 3  Test 4  Test 5  No. of previous abortion  ...  \\\n",
       "0     0.0     0.0     1.0     0.0                       2.0  ...   \n",
       "2     0.0     0.0     1.0     0.0                       4.0  ...   \n",
       "3     0.0     0.0     1.0     0.0                       1.0  ...   \n",
       "4     0.0     0.0     1.0     0.0                       4.0  ...   \n",
       "5     0.0     0.0     1.0     0.0                       0.0  ...   \n",
       "\n",
       "   H/O radiation exposure (x-ray)_Yes  H/O substance abuse_No  \\\n",
       "0                                   0                       1   \n",
       "2                                   1                       1   \n",
       "3                                   0                       0   \n",
       "4                                   0                       0   \n",
       "5                                   0                       1   \n",
       "\n",
       "   H/O substance abuse_Not applicable  H/O substance abuse_Yes  \\\n",
       "0                                   0                        0   \n",
       "2                                   0                        0   \n",
       "3                                   1                        0   \n",
       "4                                   1                        0   \n",
       "5                                   0                        0   \n",
       "\n",
       "   Assisted conception IVF/ART_Yes  \\\n",
       "0                                0   \n",
       "2                                1   \n",
       "3                                1   \n",
       "4                                1   \n",
       "5                                1   \n",
       "\n",
       "   History of anomalies in previous pregnancies_Yes  Birth defects_Singular  \\\n",
       "0                                                 1                       0   \n",
       "2                                                 1                       1   \n",
       "3                                                 1                       1   \n",
       "4                                                 0                       0   \n",
       "5                                                 0                       0   \n",
       "\n",
       "   Blood test result_inconclusive  Blood test result_normal  \\\n",
       "0                               0                         0   \n",
       "2                               0                         1   \n",
       "3                               1                         0   \n",
       "4                               0                         0   \n",
       "5                               0                         1   \n",
       "\n",
       "   Blood test result_slightly abnormal  \n",
       "0                                    1  \n",
       "2                                    0  \n",
       "3                                    0  \n",
       "4                                    1  \n",
       "5                                    0  \n",
       "\n",
       "[5 rows x 46 columns]"
      ]
     },
     "execution_count": 16,
     "metadata": {},
     "output_type": "execute_result"
    }
   ],
   "source": [
    "labels, x = clean_data(pd.read_csv(\"../data/train.csv\"), \"train\")\n",
    "x.head(5)"
   ]
  },
  {
   "cell_type": "code",
   "execution_count": 17,
   "metadata": {},
   "outputs": [
    {
     "data": {
      "text/plain": [
       "18047"
      ]
     },
     "execution_count": 17,
     "metadata": {},
     "output_type": "execute_result"
    }
   ],
   "source": [
    "len(labels)"
   ]
  },
  {
   "cell_type": "code",
   "execution_count": 18,
   "metadata": {},
   "outputs": [
    {
     "data": {
      "text/plain": [
       "Patient Age                                                  0\n",
       "Blood cell count (mcL)                                       0\n",
       "Mother's age                                                 0\n",
       "Father's age                                                 0\n",
       "Test 1                                                       0\n",
       "Test 2                                                       0\n",
       "Test 3                                                       0\n",
       "Test 4                                                       0\n",
       "Test 5                                                       0\n",
       "No. of previous abortion                                     0\n",
       "White Blood cell count (thousand per microliter)             0\n",
       "Symptom 1                                                    0\n",
       "Symptom 2                                                    0\n",
       "Symptom 3                                                    0\n",
       "Symptom 4                                                    0\n",
       "Symptom 5                                                    0\n",
       "Genes in mother's side_Yes                                   0\n",
       "Inherited from father_Yes                                    0\n",
       "Maternal gene_Yes                                            0\n",
       "Paternal gene_Yes                                            0\n",
       "Respiratory Rate (breaths/min)_Tachypnea                     0\n",
       "Heart Rate (rates/min_Tachycardia                            0\n",
       "Follow-up_Low                                                0\n",
       "Gender_Female                                                0\n",
       "Gender_Male                                                  0\n",
       "Birth asphyxia_No record                                     0\n",
       "Birth asphyxia_Not available                                 0\n",
       "Birth asphyxia_Yes                                           0\n",
       "Autopsy shows birth defect (if applicable)_None              0\n",
       "Autopsy shows birth defect (if applicable)_Not applicable    0\n",
       "Autopsy shows birth defect (if applicable)_Yes               0\n",
       "Place of birth_Institute                                     0\n",
       "Folic acid details (peri-conceptional)_Yes                   0\n",
       "H/O serious maternal illness_Yes                             0\n",
       "H/O radiation exposure (x-ray)_No                            0\n",
       "H/O radiation exposure (x-ray)_Not applicable                0\n",
       "H/O radiation exposure (x-ray)_Yes                           0\n",
       "H/O substance abuse_No                                       0\n",
       "H/O substance abuse_Not applicable                           0\n",
       "H/O substance abuse_Yes                                      0\n",
       "Assisted conception IVF/ART_Yes                              0\n",
       "History of anomalies in previous pregnancies_Yes             0\n",
       "Birth defects_Singular                                       0\n",
       "Blood test result_inconclusive                               0\n",
       "Blood test result_normal                                     0\n",
       "Blood test result_slightly abnormal                          0\n",
       "dtype: int64"
      ]
     },
     "execution_count": 18,
     "metadata": {},
     "output_type": "execute_result"
    }
   ],
   "source": [
    "# Check to make sure we've recoded all NAs\n",
    "x.isna().sum()"
   ]
  },
  {
   "cell_type": "code",
   "execution_count": 19,
   "metadata": {},
   "outputs": [
    {
     "data": {
      "text/plain": [
       "(array([9241.,    0.,    0.,    0.,    0., 1877.,    0.,    0.,    0.,\n",
       "        6929.]),\n",
       " array([0. , 0.2, 0.4, 0.6, 0.8, 1. , 1.2, 1.4, 1.6, 1.8, 2. ]),\n",
       " <BarContainer object of 10 artists>)"
      ]
     },
     "execution_count": 19,
     "metadata": {},
     "output_type": "execute_result"
    },
    {
     "data": {
      "image/png": "[encoded data removed]",
      "text/plain": [
       "<Figure size 1000x500 with 1 Axes>"
      ]
     },
     "metadata": {},
     "output_type": "display_data"
    }
   ],
   "source": [
    "plt.figure(figsize=(10,5),dpi = 100)\n",
    "plt.hist(labels['Genetic Disorder'])"
   ]
  },
  {
   "cell_type": "code",
   "execution_count": 20,
   "metadata": {},
   "outputs": [
    {
     "data": {
      "text/plain": [
       "(array([ 587., 1653., 4683.,   91.,    0., 3145., 2556., 1228., 3971.,\n",
       "         133.]),\n",
       " array([0. , 0.8, 1.6, 2.4, 3.2, 4. , 4.8, 5.6, 6.4, 7.2, 8. ]),\n",
       " <BarContainer object of 10 artists>)"
      ]
     },
     "execution_count": 20,
     "metadata": {},
     "output_type": "execute_result"
    },
    {
     "data": {
      "image/png": "[encoded data removed]",
      "text/plain": [
       "<Figure size 2000x800 with 1 Axes>"
      ]
     },
     "metadata": {},
     "output_type": "display_data"
    }
   ],
   "source": [
    "plt.figure(figsize=(20,8))\n",
    "plt.hist(labels['Disorder Subclass'], color = \"lightblue\", ec=\"black\")"
   ]
  },
  {
   "cell_type": "markdown",
   "metadata": {},
   "source": [
    "### Splitting the Dataset\n",
    "***\n",
    "We originally wrote this script to work with the provided test set, but it doesn't include labels which makes it unusable for testing model performance."
   ]
  },
  {
   "cell_type": "code",
   "execution_count": 21,
   "metadata": {},
   "outputs": [],
   "source": [
    "y1 = labels['Genetic Disorder']\n",
    "y2 = labels['Disorder Subclass']\n",
    "\n",
    "x1_train, x1_test, y1_train, y1_test = train_test_split(x, y1, test_size=0.2)\n",
    "x2_train, x2_test, y2_train, y2_test = train_test_split(x, y2, test_size=0.2)"
   ]
  },
  {
   "cell_type": "markdown",
   "metadata": {},
   "source": [
    "### Train\n",
    "***\n",
    "\n",
    "We have a specific set of circumstances with this data that will dictate which types of modelling we should use:\n",
    "\n",
    "1. A mix of categorical and numeric data\n",
    "2. A categorical outcome we're trying to classify\n",
    "3. And since we're trying to classify, our methods must be supervised\n",
    "\n",
    "Surely there are a number of different methods we could test out here, but in the interest of time, let's go with a random forest since decision tree is paticularly suited to mixed data like this, and random forest is superior to a single tree."
   ]
  },
  {
   "cell_type": "code",
   "execution_count": 22,
   "metadata": {},
   "outputs": [
    {
     "data": {
      "text/html": [
       "<style>#sk-container-id-2 {color: black;background-color: white;}#sk-container-id-2 pre{padding: 0;}#sk-container-id-2 div.sk-toggleable {background-color: white;}#sk-container-id-2 label.sk-toggleable__label {cursor: pointer;display: block;width: 100%;margin-bottom: 0;padding: 0.3em;box-sizing: border-box;text-align: center;}#sk-container-id-2 label.sk-toggleable__label-arrow:before {content: \"▸\";float: left;margin-right: 0.25em;color: #696969;}#sk-container-id-2 label.sk-toggleable__label-arrow:hover:before {color: black;}#sk-container-id-2 div.sk-estimator:hover label.sk-toggleable__label-arrow:before {color: black;}#sk-container-id-2 div.sk-toggleable__content {max-height: 0;max-width: 0;overflow: hidden;text-align: left;background-color: #f0f8ff;}#sk-container-id-2 div.sk-toggleable__content pre {margin: 0.2em;color: black;border-radius: 0.25em;background-color: #f0f8ff;}#sk-container-id-2 input.sk-toggleable__control:checked~div.sk-toggleable__content {max-height: 200px;max-width: 100%;overflow: auto;}#sk-container-id-2 input.sk-toggleable__control:checked~label.sk-toggleable__label-arrow:before {content: \"▾\";}#sk-container-id-2 div.sk-estimator input.sk-toggleable__control:checked~label.sk-toggleable__label {background-color: #d4ebff;}#sk-container-id-2 div.sk-label input.sk-toggleable__control:checked~label.sk-toggleable__label {background-color: #d4ebff;}#sk-container-id-2 input.sk-hidden--visually {border: 0;clip: rect(1px 1px 1px 1px);clip: rect(1px, 1px, 1px, 1px);height: 1px;margin: -1px;overflow: hidden;padding: 0;position: absolute;width: 1px;}#sk-container-id-2 div.sk-estimator {font-family: monospace;background-color: #f0f8ff;border: 1px dotted black;border-radius: 0.25em;box-sizing: border-box;margin-bottom: 0.5em;}#sk-container-id-2 div.sk-estimator:hover {background-color: #d4ebff;}#sk-container-id-2 div.sk-parallel-item::after {content: \"\";width: 100%;border-bottom: 1px solid gray;flex-grow: 1;}#sk-container-id-2 div.sk-label:hover label.sk-toggleable__label {background-color: #d4ebff;}#sk-container-id-2 div.sk-serial::before {content: \"\";position: absolute;border-left: 1px solid gray;box-sizing: border-box;top: 0;bottom: 0;left: 50%;z-index: 0;}#sk-container-id-2 div.sk-serial {display: flex;flex-direction: column;align-items: center;background-color: white;padding-right: 0.2em;padding-left: 0.2em;position: relative;}#sk-container-id-2 div.sk-item {position: relative;z-index: 1;}#sk-container-id-2 div.sk-parallel {display: flex;align-items: stretch;justify-content: center;background-color: white;position: relative;}#sk-container-id-2 div.sk-item::before, #sk-container-id-2 div.sk-parallel-item::before {content: \"\";position: absolute;border-left: 1px solid gray;box-sizing: border-box;top: 0;bottom: 0;left: 50%;z-index: -1;}#sk-container-id-2 div.sk-parallel-item {display: flex;flex-direction: column;z-index: 1;position: relative;background-color: white;}#sk-container-id-2 div.sk-parallel-item:first-child::after {align-self: flex-end;width: 50%;}#sk-container-id-2 div.sk-parallel-item:last-child::after {align-self: flex-start;width: 50%;}#sk-container-id-2 div.sk-parallel-item:only-child::after {width: 0;}#sk-container-id-2 div.sk-dashed-wrapped {border: 1px dashed gray;margin: 0 0.4em 0.5em 0.4em;box-sizing: border-box;padding-bottom: 0.4em;background-color: white;}#sk-container-id-2 div.sk-label label {font-family: monospace;font-weight: bold;display: inline-block;line-height: 1.2em;}#sk-container-id-2 div.sk-label-container {text-align: center;}#sk-container-id-2 div.sk-container {/* jupyter's `normalize.less` sets `[hidden] { display: none; }` but bootstrap.min.css set `[hidden] { display: none !important; }` so we also need the `!important` here to be able to override the default hidden behavior on the sphinx rendered scikit-learn.org. See: https://github.com/scikit-learn/scikit-learn/issues/21755 */display: inline-block !important;position: relative;}#sk-container-id-2 div.sk-text-repr-fallback {display: none;}</style><div id=\"sk-container-id-2\" class=\"sk-top-container\"><div class=\"sk-text-repr-fallback\"><pre>RandomForestClassifier(max_depth=9, random_state=0)</pre><b>In a Jupyter environment, please rerun this cell to show the HTML representation or trust the notebook. <br />On GitHub, the HTML representation is unable to render, please try loading this page with nbviewer.org.</b></div><div class=\"sk-container\" hidden><div class=\"sk-item\"><div class=\"sk-estimator sk-toggleable\"><input class=\"sk-toggleable__control sk-hidden--visually\" id=\"sk-estimator-id-2\" type=\"checkbox\" checked><label for=\"sk-estimator-id-2\" class=\"sk-toggleable__label sk-toggleable__label-arrow\">RandomForestClassifier</label><div class=\"sk-toggleable__content\"><pre>RandomForestClassifier(max_depth=9, random_state=0)</pre></div></div></div></div></div>"
      ],
      "text/plain": [
       "RandomForestClassifier(max_depth=9, random_state=0)"
      ]
     },
     "execution_count": 22,
     "metadata": {},
     "output_type": "execute_result"
    }
   ],
   "source": [
    "clf1 = RandomForestClassifier(max_depth=9, random_state=0)\n",
    "clf1.fit(x1_train, y1_train)\n",
    "\n",
    "clf2 = RandomForestClassifier(max_depth=9, random_state=0)\n",
    "clf2.fit(x2_train, y2_train)"
   ]
  },
  {
   "cell_type": "code",
   "execution_count": 23,
   "metadata": {},
   "outputs": [
    {
     "data": {
      "text/plain": [
       "0.6836600401745515"
      ]
     },
     "execution_count": 23,
     "metadata": {},
     "output_type": "execute_result"
    }
   ],
   "source": [
    "clf1.score(x1_train, y1_train)"
   ]
  },
  {
   "cell_type": "code",
   "execution_count": 24,
   "metadata": {},
   "outputs": [
    {
     "data": {
      "text/plain": [
       "0.6094063863683591"
      ]
     },
     "execution_count": 24,
     "metadata": {},
     "output_type": "execute_result"
    }
   ],
   "source": [
    "clf2.score(x2_train, y2_train)"
   ]
  },
  {
   "cell_type": "markdown",
   "metadata": {},
   "source": [
    "### Test\n",
    "***"
   ]
  },
  {
   "cell_type": "code",
   "execution_count": 25,
   "metadata": {},
   "outputs": [
    {
     "data": {
      "text/plain": [
       "0.5515235457063712"
      ]
     },
     "execution_count": 25,
     "metadata": {},
     "output_type": "execute_result"
    }
   ],
   "source": [
    "clf1.score(x1_test, y1_test)"
   ]
  },
  {
   "cell_type": "code",
   "execution_count": 26,
   "metadata": {},
   "outputs": [
    {
     "data": {
      "text/plain": [
       "0.38365650969529086"
      ]
     },
     "execution_count": 26,
     "metadata": {},
     "output_type": "execute_result"
    }
   ],
   "source": [
    "clf2.score(x2_test, y2_test)"
   ]
  },
  {
   "cell_type": "markdown",
   "metadata": {},
   "source": [
    "### Conclusion\n",
    "***\n",
    "The model seems to do alright. It's definitely overfitted based on the worse performance for test than training, but lowering the tree depth didn't improve performance at all, so there must be some other paramaters we should play with. We could also look into gradient boosting models and Linear Support Vector Regression (though we'd have to normalize out inputs for this)."
   ]
  }
 ],
 "metadata": {
  "kernelspec": {
   "display_name": "Python 3.10.7 64-bit",
   "language": "python",
   "name": "python3"
  },
  "language_info": {
   "codemirror_mode": {
    "name": "ipython",
    "version": 3
   },
   "file_extension": ".py",
   "mimetype": "text/x-python",
   "name": "python",
   "nbconvert_exporter": "python",
   "pygments_lexer": "ipython3",
   "version": "3.10.7"
  },
  "vscode": {
   "interpreter": {
    "hash": "4e78038aaa7dc8bc294363790f0e8f5461661c3b1304831752cf03331975e00e"
   }
  }
 },
 "nbformat": 4,
 "nbformat_minor": 2
}
